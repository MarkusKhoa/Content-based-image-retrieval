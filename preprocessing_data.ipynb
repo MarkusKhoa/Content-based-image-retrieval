{
 "cells": [
  {
   "cell_type": "code",
   "execution_count": 1,
   "metadata": {},
   "outputs": [],
   "source": [
    "import os\n",
    "import numpy as np\n",
    "import warnings\n",
    "from PIL import Image"
   ]
  },
  {
   "cell_type": "code",
   "execution_count": 15,
   "metadata": {},
   "outputs": [],
   "source": [
    "root_images_path = \"D:/AI Insights/2021/Practice Projects/content-based-image-retrieval/images/\"\n",
    "dict_categories = {\"animal\": [], \"country\": [], \"furniture\": [], \"plant\": [], \"scenery\": []}\n",
    "\n",
    "for path in os.listdir(root_images_path):\n",
    "    category, name = path.split(\"_\")[0], path.split(\"_\")[1]\n",
    "    if category in dict_categories.keys():\n",
    "        dict_categories[category].append(name)"
   ]
  },
  {
   "cell_type": "code",
   "execution_count": 16,
   "metadata": {},
   "outputs": [
    {
     "name": "stdout",
     "output_type": "stream",
     "text": [
      "['Bay', 'cave', 'Cliff', 'cloud', 'Coast', 'desert', 'farmland', 'flower', 'Forests', 'glacier', 'grassland', 'hedges', 'horizon', 'Lake', 'lighthouse', 'Mountains', 'plain', 'plateau', 'river', 'savannah', 'sky', 'valley', 'volcano', 'Waterbodies', 'waterfall', '', '', '', '', '', '', '', '', '', '', '', '', '', '', '', '', '', '', '', '', '', '', '', '', '']\n"
     ]
    }
   ],
   "source": [
    "max_len = max([len(dict_categories[c]) for c in dict_categories])\n",
    "for c in dict_categories:\n",
    "    dict_categories[c] += [\"\"]*(max_len - len(dict_categories[c]))\n",
    "\n",
    "print(dict_categories[c])"
   ]
  },
  {
   "cell_type": "code",
   "execution_count": 17,
   "metadata": {},
   "outputs": [
    {
     "name": "stdout",
     "output_type": "stream",
     "text": [
      "D:/AI Insights/2021/Practice Projects/content-based-image-retrieval/images/\n"
     ]
    }
   ],
   "source": [
    "print(root_images_path)"
   ]
  },
  {
   "cell_type": "code",
   "execution_count": 19,
   "metadata": {},
   "outputs": [],
   "source": [
    "error_count = 0\n",
    "width, height = 224, 224\n",
    "for folder in os.listdir(root_images_path):\n",
    "    if folder.split(\"_\")[0] in dict_categories:\n",
    "        img_path = root_images_path + folder\n",
    "        list_dir = [img_path + \"/\" + name for name in os.listdir(img_path) if name.endswith((\".jpg\", \".png\", \".jpeg\"))]\n",
    "        for filename in list_dir:\n",
    "            try:\n",
    "                img = Image.open(filename).resize((width, height))\n",
    "                \n",
    "                if img.width < 10:\n",
    "                    print(f\"This image is too small\")\n",
    "                    # os.remove(filename)\n",
    "                \n",
    "                else:\n",
    "                    img.verify()\n",
    "            except Exception as e:\n",
    "                error_count += 1\n",
    "                print(f\"Failed to verify image {filename} in {folder} folder\")\n",
    "                #os.remove(filename)\n",
    "        "
   ]
  },
  {
   "cell_type": "code",
   "execution_count": null,
   "metadata": {},
   "outputs": [],
   "source": []
  }
 ],
 "metadata": {
  "interpreter": {
   "hash": "e885cd74143ad494932267455ab53278514454996393c47fe6c2589217b9edf3"
  },
  "kernelspec": {
   "display_name": "Python 3.9.6 64-bit",
   "language": "python",
   "name": "python3"
  },
  "language_info": {
   "codemirror_mode": {
    "name": "ipython",
    "version": 3
   },
   "file_extension": ".py",
   "mimetype": "text/x-python",
   "name": "python",
   "nbconvert_exporter": "python",
   "pygments_lexer": "ipython3",
   "version": "3.9.6"
  },
  "orig_nbformat": 4
 },
 "nbformat": 4,
 "nbformat_minor": 2
}
